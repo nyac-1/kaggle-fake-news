{
  "nbformat": 4,
  "nbformat_minor": 0,
  "metadata": {
    "colab": {
      "name": "spam-notebook-model.ipynb",
      "provenance": [],
      "collapsed_sections": []
    },
    "kernelspec": {
      "name": "python3",
      "display_name": "Python 3"
    },
    "language_info": {
      "name": "python"
    },
    "accelerator": "GPU"
  },
  "cells": [
    {
      "cell_type": "code",
      "metadata": {
        "id": "E7m69I6yr4-i",
        "colab": {
          "base_uri": "https://localhost:8080/"
        },
        "outputId": "255326f7-d800-4777-e1ff-a13d8b9c0787"
      },
      "source": [
        "from google.colab import drive\n",
        "drive.mount(\"/content/drive\")"
      ],
      "execution_count": 1,
      "outputs": [
        {
          "output_type": "stream",
          "name": "stdout",
          "text": [
            "Mounted at /content/drive\n"
          ]
        }
      ]
    },
    {
      "cell_type": "code",
      "metadata": {
        "id": "lsxu6z8jsR9V"
      },
      "source": [
        "import pandas as pd\n",
        "import numpy as np\n",
        "import pickle\n",
        "\n",
        "X = np.loadtxt('/content/drive/MyDrive/spam/X_train.txt', dtype=int)\n",
        "test = np.loadtxt('/content/drive/MyDrive/spam/X_test.txt', dtype=int)\n",
        "y = np.loadtxt('/content/drive/MyDrive/spam/y.txt', dtype=int)"
      ],
      "execution_count": 2,
      "outputs": []
    },
    {
      "cell_type": "code",
      "metadata": {
        "id": "OxNNqf_3tMWX"
      },
      "source": [
        "import tensorflow as tf\n",
        "from tensorflow.keras.layers import Embedding, Dropout\n",
        "from tensorflow.keras.models import Sequential\n",
        "from tensorflow.keras.layers import LSTM\n",
        "from tensorflow.keras.layers import Dense"
      ],
      "execution_count": 5,
      "outputs": []
    },
    {
      "cell_type": "code",
      "metadata": {
        "id": "3z230D4duIwG",
        "colab": {
          "base_uri": "https://localhost:8080/"
        },
        "outputId": "83551231-9a4e-414d-a353-1873b5eb9c6f"
      },
      "source": [
        "embedding_vector_features=500\n",
        "model=Sequential()\n",
        "model.add(Embedding(5000,embedding_vector_features,input_length=522))\n",
        "model.add(Dropout(0.3))\n",
        "model.add(LSTM(300))\n",
        "model.add(Dropout(0.15))\n",
        "model.add(Dense(1,activation='sigmoid'))\n",
        "model.compile(loss='binary_crossentropy',optimizer='adam',metrics=['accuracy'])\n",
        "print(model.summary())"
      ],
      "execution_count": 6,
      "outputs": [
        {
          "output_type": "stream",
          "name": "stdout",
          "text": [
            "Model: \"sequential_1\"\n",
            "_________________________________________________________________\n",
            "Layer (type)                 Output Shape              Param #   \n",
            "=================================================================\n",
            "embedding_1 (Embedding)      (None, 522, 500)          2500000   \n",
            "_________________________________________________________________\n",
            "dropout (Dropout)            (None, 522, 500)          0         \n",
            "_________________________________________________________________\n",
            "lstm (LSTM)                  (None, 300)               961200    \n",
            "_________________________________________________________________\n",
            "dropout_1 (Dropout)          (None, 300)               0         \n",
            "_________________________________________________________________\n",
            "dense (Dense)                (None, 1)                 301       \n",
            "=================================================================\n",
            "Total params: 3,461,501\n",
            "Trainable params: 3,461,501\n",
            "Non-trainable params: 0\n",
            "_________________________________________________________________\n",
            "None\n"
          ]
        }
      ]
    },
    {
      "cell_type": "code",
      "metadata": {
        "id": "sYNewXCHvdKX"
      },
      "source": [
        "from sklearn.model_selection import train_test_split\n",
        "X_train, X_test, y_train, y_test = train_test_split(X, y, test_size=0.2, random_state=42)"
      ],
      "execution_count": 9,
      "outputs": []
    },
    {
      "cell_type": "code",
      "metadata": {
        "colab": {
          "base_uri": "https://localhost:8080/"
        },
        "id": "-aV0EdLCvr1M",
        "outputId": "5e3690e0-249c-4210-8963-11b180172315"
      },
      "source": [
        "model.fit(X_train,y_train,validation_data=(X_test,y_test),epochs=10,batch_size=64)"
      ],
      "execution_count": null,
      "outputs": [
        {
          "output_type": "stream",
          "name": "stdout",
          "text": [
            "Epoch 1/10\n",
            "260/260 [==============================] - 69s 239ms/step - loss: 0.3546 - accuracy: 0.8548 - val_loss: 0.2621 - val_accuracy: 0.8995\n",
            "Epoch 2/10\n",
            "260/260 [==============================] - 61s 233ms/step - loss: 0.1838 - accuracy: 0.9316 - val_loss: 0.2151 - val_accuracy: 0.9276\n",
            "Epoch 3/10\n",
            "260/260 [==============================] - 61s 234ms/step - loss: 0.1271 - accuracy: 0.9518 - val_loss: 0.2660 - val_accuracy: 0.8841\n",
            "Epoch 4/10\n",
            "260/260 [==============================] - 61s 236ms/step - loss: 0.1401 - accuracy: 0.9475 - val_loss: 0.2627 - val_accuracy: 0.9050\n",
            "Epoch 5/10\n",
            "260/260 [==============================] - 62s 237ms/step - loss: 0.0799 - accuracy: 0.9721 - val_loss: 0.2987 - val_accuracy: 0.8957\n",
            "Epoch 6/10\n",
            "260/260 [==============================] - 61s 235ms/step - loss: 0.0432 - accuracy: 0.9846 - val_loss: 0.3211 - val_accuracy: 0.9082\n",
            "Epoch 7/10\n",
            "260/260 [==============================] - 60s 233ms/step - loss: 0.0418 - accuracy: 0.9854 - val_loss: 0.8233 - val_accuracy: 0.8108\n",
            "Epoch 8/10\n",
            "260/260 [==============================] - 61s 234ms/step - loss: 0.0563 - accuracy: 0.9793 - val_loss: 0.3461 - val_accuracy: 0.9156\n",
            "Epoch 9/10\n",
            "260/260 [==============================] - 61s 234ms/step - loss: 0.0193 - accuracy: 0.9934 - val_loss: 0.4209 - val_accuracy: 0.9096\n",
            "Epoch 10/10\n",
            " 30/260 [==>...........................] - ETA: 49s - loss: 0.0064 - accuracy: 0.9995"
          ]
        }
      ]
    },
    {
      "cell_type": "code",
      "metadata": {
        "id": "9QjVe2W_wAzh"
      },
      "source": [
        "test = np.loadtxt('/content/drive/MyDrive/spam/X_test.txt', dtype=int)"
      ],
      "execution_count": null,
      "outputs": []
    },
    {
      "cell_type": "code",
      "metadata": {
        "colab": {
          "base_uri": "https://localhost:8080/",
          "height": 204
        },
        "id": "zyHoB9-u3DGF",
        "outputId": "0e93f066-8138-4425-c739-f4f752ad8ef2"
      },
      "source": [
        "pred = model.predict(test).reshape(1,-1)\n",
        "ln = list(map(lambda x: 1 if (x>0.5) else 0,list(pred)[0]))\n",
        "sample = pd.read_csv(\"/content/drive/MyDrive/spam/submit.csv\")\n",
        "sample['label'] = ln\n",
        "sample.head()"
      ],
      "execution_count": 23,
      "outputs": [
        {
          "output_type": "execute_result",
          "data": {
            "text/html": [
              "<div>\n",
              "<style scoped>\n",
              "    .dataframe tbody tr th:only-of-type {\n",
              "        vertical-align: middle;\n",
              "    }\n",
              "\n",
              "    .dataframe tbody tr th {\n",
              "        vertical-align: top;\n",
              "    }\n",
              "\n",
              "    .dataframe thead th {\n",
              "        text-align: right;\n",
              "    }\n",
              "</style>\n",
              "<table border=\"1\" class=\"dataframe\">\n",
              "  <thead>\n",
              "    <tr style=\"text-align: right;\">\n",
              "      <th></th>\n",
              "      <th>id</th>\n",
              "      <th>label</th>\n",
              "    </tr>\n",
              "  </thead>\n",
              "  <tbody>\n",
              "    <tr>\n",
              "      <th>0</th>\n",
              "      <td>20800</td>\n",
              "      <td>0</td>\n",
              "    </tr>\n",
              "    <tr>\n",
              "      <th>1</th>\n",
              "      <td>20801</td>\n",
              "      <td>1</td>\n",
              "    </tr>\n",
              "    <tr>\n",
              "      <th>2</th>\n",
              "      <td>20802</td>\n",
              "      <td>1</td>\n",
              "    </tr>\n",
              "    <tr>\n",
              "      <th>3</th>\n",
              "      <td>20803</td>\n",
              "      <td>0</td>\n",
              "    </tr>\n",
              "    <tr>\n",
              "      <th>4</th>\n",
              "      <td>20804</td>\n",
              "      <td>1</td>\n",
              "    </tr>\n",
              "  </tbody>\n",
              "</table>\n",
              "</div>"
            ],
            "text/plain": [
              "      id  label\n",
              "0  20800      0\n",
              "1  20801      1\n",
              "2  20802      1\n",
              "3  20803      0\n",
              "4  20804      1"
            ]
          },
          "metadata": {},
          "execution_count": 23
        }
      ]
    },
    {
      "cell_type": "code",
      "metadata": {
        "id": "-IqLlCMg3URo"
      },
      "source": [
        "sample.to_csv(\"/content/drive/MyDrive/spam/lstm_model_pred.csv\", index = False)"
      ],
      "execution_count": 24,
      "outputs": []
    },
    {
      "cell_type": "code",
      "metadata": {
        "id": "MeVqbI0N3k6n"
      },
      "source": [
        ""
      ],
      "execution_count": null,
      "outputs": []
    }
  ]
}